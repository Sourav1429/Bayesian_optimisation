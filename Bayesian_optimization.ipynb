{
 "cells": [
  {
   "cell_type": "code",
   "execution_count": 10,
   "metadata": {},
   "outputs": [],
   "source": [
    "# example of bayesian optimization for a 1d function from scratch\n",
    "from math import sin\n",
    "from math import pi\n",
    "from numpy import arange\n",
    "from numpy import vstack\n",
    "from numpy import argmax\n",
    "from numpy import asarray\n",
    "from numpy.random import normal\n",
    "from numpy.random import random\n",
    "from scipy.stats import norm\n",
    "from sklearn.gaussian_process import GaussianProcessRegressor\n",
    "from warnings import catch_warnings\n",
    "from warnings import simplefilter\n",
    "from matplotlib import pyplot"
   ]
  },
  {
   "cell_type": "code",
   "execution_count": 11,
   "metadata": {},
   "outputs": [],
   "source": [
    "# objective function\n",
    "def objective(x, noise=0.1):\n",
    "\tnoise = normal(loc=0, scale=noise)\n",
    "\treturn (x**2 * sin(5 * pi * x)**6.0) + noise"
   ]
  },
  {
   "cell_type": "code",
   "execution_count": 12,
   "metadata": {},
   "outputs": [],
   "source": [
    "# surrogate or approximation for the objective function\n",
    "def surrogate(model, X):\n",
    "\t# catch any warning generated when making a prediction\n",
    "\twith catch_warnings():\n",
    "\t\t# ignore generated warnings\n",
    "\t\tsimplefilter(\"ignore\")\n",
    "\t\treturn model.predict(X, return_std=True)\n",
    " "
   ]
  },
  {
   "cell_type": "code",
   "execution_count": 13,
   "metadata": {},
   "outputs": [],
   "source": [
    "# probability of improvement acquisition function\n",
    "def acquisition(X, Xsamples, model):\n",
    "\t# calculate the best surrogate score found so far\n",
    "\tyhat, _ = surrogate(model, X)\n",
    "\tbest = max(yhat)\n",
    "\t# calculate mean and stdev via surrogate function\n",
    "\tmu, std = surrogate(model, Xsamples)\n",
    "\tmu = mu[:, 0]\n",
    "\t# calculate the probability of improvement\n",
    "\tprobs = norm.cdf((mu - best) / (std+1E-9))\n",
    "\treturn probs"
   ]
  },
  {
   "cell_type": "code",
   "execution_count": 14,
   "metadata": {},
   "outputs": [],
   "source": [
    "# optimize the acquisition function\n",
    "def opt_acquisition(X, y, model):\n",
    "\t# random search, generate random samples\n",
    "\tXsamples = random(100)\n",
    "\tXsamples = Xsamples.reshape(len(Xsamples), 1)\n",
    "\t# calculate the acquisition function for each sample\n",
    "\tscores = acquisition(X, Xsamples, model)\n",
    "\t# locate the index of the largest scores\n",
    "\tix = argmax(scores)\n",
    "\treturn Xsamples[ix, 0]"
   ]
  },
  {
   "cell_type": "code",
   "execution_count": 15,
   "metadata": {},
   "outputs": [],
   "source": [
    "# plot real observations vs surrogate function\n",
    "def plot(X, y, model):\n",
    "\t# scatter plot of inputs and real objective function\n",
    "\tpyplot.scatter(X, y)\n",
    "\t# line plot of surrogate function across domain\n",
    "\tXsamples = asarray(arange(0, 1, 0.001))\n",
    "\tXsamples = Xsamples.reshape(len(Xsamples), 1)\n",
    "\tysamples, _ = surrogate(model, Xsamples)\n",
    "\tpyplot.plot(Xsamples, ysamples)\n",
    "\t# show the plot\n",
    "\tpyplot.show()"
   ]
  },
  {
   "cell_type": "code",
   "execution_count": 16,
   "metadata": {},
   "outputs": [
    {
     "data": {
      "image/png": "[encoded data removed]",
      "text/plain": [
       "<Figure size 432x288 with 1 Axes>"
      ]
     },
     "metadata": {
      "needs_background": "light"
     },
     "output_type": "display_data"
    }
   ],
   "source": [
    "X = random(100)\n",
    "y = asarray([objective(x,0) for x in X])\n",
    "# reshape into rows and cols\n",
    "X = X.reshape(len(X), 1)\n",
    "y = y.reshape(len(y), 1)\n",
    "# define the model\n",
    "model = GaussianProcessRegressor()\n",
    "# fit the model\n",
    "model.fit(X, y)\n",
    "# plot before hand\n",
    "plot(X, y, model)"
   ]
  },
  {
   "cell_type": "code",
   "execution_count": 19,
   "metadata": {},
   "outputs": [
    {
     "name": "stdout",
     "output_type": "stream",
     "text": [
      ">x=0.459, f()=0.080433, actual=0.053\n",
      ">x=0.846, f()=0.425344, actual=0.060\n",
      ">x=0.929, f()=0.576217, actual=0.443\n",
      ">x=0.568, f()=0.114365, actual=0.004\n",
      ">x=0.915, f()=0.591115, actual=0.713\n",
      ">x=0.908, f()=0.590709, actual=0.784\n",
      ">x=0.914, f()=0.594927, actual=0.723\n",
      ">x=0.901, f()=0.586297, actual=0.811\n",
      ">x=0.673, f()=0.074486, actual=0.264\n",
      ">x=0.876, f()=0.529615, actual=0.492\n",
      ">x=0.483, f()=0.093889, actual=0.186\n",
      ">x=0.982, f()=0.127114, actual=0.000\n",
      ">x=0.913, f()=0.598342, actual=0.735\n",
      ">x=0.880, f()=0.544798, actual=0.569\n",
      ">x=0.698, f()=0.081940, actual=0.486\n",
      ">x=0.907, f()=0.597310, actual=0.795\n",
      ">x=0.886, f()=0.565459, actual=0.680\n",
      ">x=0.949, f()=0.488516, actual=0.120\n",
      ">x=0.652, f()=0.096407, actual=0.062\n",
      ">x=0.856, f()=0.474697, actual=0.156\n",
      ">x=0.917, f()=0.595414, actual=0.675\n",
      ">x=0.972, f()=0.250215, actual=0.006\n",
      ">x=0.866, f()=0.506580, actual=0.307\n",
      ">x=0.910, f()=0.595940, actual=0.772\n",
      ">x=0.919, f()=0.593484, actual=0.645\n",
      ">x=0.908, f()=0.597920, actual=0.786\n",
      ">x=0.915, f()=0.599397, actual=0.710\n",
      ">x=0.910, f()=0.601434, actual=0.772\n",
      ">x=0.893, f()=0.584055, actual=0.766\n",
      ">x=0.906, f()=0.603464, actual=0.801\n",
      ">x=0.900, f()=0.599942, actual=0.810\n",
      ">x=0.918, f()=0.605130, actual=0.661\n",
      ">x=0.900, f()=0.602735, actual=0.810\n",
      ">x=0.875, f()=0.547877, actual=0.479\n",
      ">x=0.917, f()=0.608491, actual=0.684\n",
      ">x=0.331, f()=0.002200, actual=0.053\n",
      ">x=0.940, f()=0.539834, actual=0.247\n",
      ">x=0.936, f()=0.553823, actual=0.312\n",
      ">x=0.913, f()=0.606809, actual=0.738\n",
      ">x=0.890, f()=0.587653, actual=0.738\n",
      ">x=0.915, f()=0.607714, actual=0.705\n",
      ">x=0.914, f()=0.609573, actual=0.723\n",
      ">x=0.903, f()=0.609405, actual=0.810\n",
      ">x=0.936, f()=0.555716, actual=0.315\n",
      ">x=0.934, f()=0.563008, actual=0.360\n",
      ">x=0.881, f()=0.570113, actual=0.591\n",
      ">x=0.875, f()=0.552311, actual=0.469\n",
      ">x=0.913, f()=0.608778, actual=0.735\n",
      ">x=0.911, f()=0.610827, actual=0.759\n",
      ">x=0.907, f()=0.612257, actual=0.795\n",
      ">x=0.914, f()=0.611733, actual=0.717\n",
      ">x=0.630, f()=0.096889, actual=0.004\n",
      ">x=0.936, f()=0.554920, actual=0.321\n",
      ">x=0.754, f()=0.150585, actual=0.049\n",
      ">x=0.621, f()=0.096287, actual=0.000\n",
      ">x=0.904, f()=0.612636, actual=0.806\n",
      ">x=0.896, f()=0.605495, actual=0.790\n",
      ">x=0.836, f()=0.413680, actual=0.016\n",
      ">x=0.934, f()=0.563728, actual=0.353\n",
      ">x=0.890, f()=0.592812, actual=0.738\n",
      ">x=0.974, f()=0.153768, actual=0.003\n",
      ">x=0.917, f()=0.609010, actual=0.680\n",
      ">x=0.394, f()=0.037279, actual=0.000\n",
      ">x=0.946, f()=0.489792, actual=0.165\n",
      ">x=0.515, f()=0.114826, actual=0.224\n",
      ">x=0.917, f()=0.607549, actual=0.684\n",
      ">x=0.931, f()=0.570817, actual=0.420\n",
      ">x=0.928, f()=0.580577, actual=0.480\n",
      ">x=0.922, f()=0.595109, actual=0.583\n",
      ">x=0.921, f()=0.597640, actual=0.605\n",
      ">x=0.127, f()=0.024867, actual=0.009\n",
      ">x=0.672, f()=0.073417, actual=0.249\n",
      ">x=0.881, f()=0.574157, actual=0.593\n",
      ">x=0.860, f()=0.506444, actual=0.207\n",
      ">x=0.565, f()=0.122796, actual=0.006\n",
      ">x=0.822, f()=0.351223, actual=0.001\n",
      ">x=0.869, f()=0.529114, actual=0.366\n",
      ">x=0.905, f()=0.606862, actual=0.805\n",
      ">x=0.862, f()=0.502097, actual=0.239\n",
      ">x=0.022, f()=-0.014592, actual=0.000\n",
      ">x=0.955, f()=0.407504, actual=0.071\n",
      ">x=0.906, f()=0.606165, actual=0.801\n",
      ">x=0.937, f()=0.538824, actual=0.305\n",
      ">x=0.893, f()=0.592210, actual=0.767\n",
      ">x=0.938, f()=0.526906, actual=0.275\n",
      ">x=0.681, f()=0.069294, actual=0.358\n",
      ">x=0.899, f()=0.601930, actual=0.808\n",
      ">x=0.854, f()=0.474459, actual=0.126\n",
      ">x=0.908, f()=0.605844, actual=0.783\n",
      ">x=0.925, f()=0.584978, actual=0.538\n",
      ">x=0.916, f()=0.602250, actual=0.696\n",
      ">x=0.900, f()=0.603541, actual=0.811\n",
      ">x=0.919, f()=0.598876, actual=0.637\n",
      ">x=0.908, f()=0.609212, actual=0.788\n",
      ">x=0.060, f()=-0.019736, actual=0.001\n",
      ">x=0.845, f()=0.436172, actual=0.052\n",
      ">x=0.910, f()=0.608593, actual=0.771\n",
      ">x=0.881, f()=0.564713, actual=0.591\n",
      ">x=0.274, f()=0.001200, actual=0.045\n",
      ">x=0.911, f()=0.609533, actual=0.758\n"
     ]
    }
   ],
   "source": [
    "# perform the optimization process\n",
    "for i in range(100):\n",
    "\t# select the next point to sample\n",
    "\tx = opt_acquisition(X, y, model)\n",
    "\t# sample the point\n",
    "\tactual = objective(x,0)\n",
    "\t# summarize the finding\n",
    "\test, _ = surrogate(model, [[x]])\n",
    "\tprint('>x=%.3f, f()=%3f, actual=%.3f' % (x, est, actual))\n",
    "\t# add the data to the dataset\n",
    "\tX = vstack((X, [[x]]))\n",
    "\ty = vstack((y, [[actual]]))\n",
    "\t# update the model\n",
    "\tmodel.fit(X, y)"
   ]
  },
  {
   "cell_type": "code",
   "execution_count": 20,
   "metadata": {},
   "outputs": [
    {
     "data": {
      "image/png": "[encoded data removed]",
      "text/plain": [
       "<Figure size 432x288 with 1 Axes>"
      ]
     },
     "metadata": {
      "needs_background": "light"
     },
     "output_type": "display_data"
    },
    {
     "name": "stdout",
     "output_type": "stream",
     "text": [
      "Best Result: x=0.908, y=0.965\n"
     ]
    }
   ],
   "source": [
    "# plot all samples and the final surrogate function\n",
    "plot(X, y, model)\n",
    "# best result\n",
    "ix = argmax(y)\n",
    "print('Best Result: x=%.3f, y=%.3f' % (X[ix], y[ix]))"
   ]
  },
  {
   "cell_type": "code",
   "execution_count": null,
   "metadata": {},
   "outputs": [],
   "source": []
  }
 ],
 "metadata": {
  "kernelspec": {
   "display_name": "Python 3",
   "language": "python",
   "name": "python3"
  },
  "language_info": {
   "codemirror_mode": {
    "name": "ipython",
    "version": 3
   },
   "file_extension": ".py",
   "mimetype": "text/x-python",
   "name": "python",
   "nbconvert_exporter": "python",
   "pygments_lexer": "ipython3",
   "version": "3.6.8"
  }
 },
 "nbformat": 4,
 "nbformat_minor": 2
}
